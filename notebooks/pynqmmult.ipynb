{
 "cells": [
  {
   "cell_type": "markdown",
   "metadata": {
    "deletable": true,
    "editable": true
   },
   "source": [
    "###  mmult on PYNQ\n",
    "##### Source : https://github.com/tkat0/pynqmmult\n",
    "\n",
    "* SDSoC付属の内積演算サンプルをPYNQで動かしてみた\n",
    "* ドライバは共有ライブラリとしてビルドし、CFFIを利用してPythonから呼び出す\n",
    "* CMAでアロケートした連続領域をnumpyのndarrayとして扱えるようにした\n",
    "* 開発環境は、SDSoC 2015.4"
   ]
  },
  {
   "cell_type": "code",
   "execution_count": 4,
   "metadata": {
    "collapsed": false,
    "deletable": true,
    "editable": true
   },
   "outputs": [],
   "source": [
    "import numpy as np\n",
    "import cffi\n",
    "from pynq import Overlay\n",
    "# load Base Overlay\n",
    "Overlay(\"/home/xilinx/pynq/bitstream/base.bit\").download()"
   ]
  },
  {
   "cell_type": "code",
   "execution_count": 5,
   "metadata": {
    "collapsed": true,
    "deletable": true,
    "editable": true
   },
   "outputs": [],
   "source": [
    "from pynq import xlnk\n",
    "mmu = xlnk.Xlnk()"
   ]
  },
  {
   "cell_type": "code",
   "execution_count": 6,
   "metadata": {
    "collapsed": false,
    "deletable": true,
    "editable": true
   },
   "outputs": [
    {
     "name": "stdout",
     "output_type": "stream",
     "text": [
      "00012670 B _p0_mmult_accel_1_noasync_num_C\n",
      "000125f8 D _p0_swinst_mmult_accel_1\n",
      "000125c8 D _p0_swinst_mmult_accel_1_cmd_mmult_accel_info\n",
      "000120cc D _p0_swinst_mmult_accel_1_cmd_mmult_accel_sg_list\n",
      "000120d0 D _sds__p0_mmult_accel_1\n",
      "00001018 T mmult_accel(float*, float*, float*)\n",
      "00001284 T _p0_mmult_accel_1_noasync(float*, float*, float*)\n",
      "---\n",
      "00012670 B _p0_mmult_accel_1_noasync_num_C\n",
      "000125f8 D _p0_swinst_mmult_accel_1\n",
      "000125c8 D _p0_swinst_mmult_accel_1_cmd_mmult_accel_info\n",
      "000120cc D _p0_swinst_mmult_accel_1_cmd_mmult_accel_sg_list\n",
      "000120d0 D _sds__p0_mmult_accel_1\n",
      "00001018 T _Z11mmult_accelPfS_S_\n",
      "00001284 T _Z25_p0_mmult_accel_1_noasyncPfS_S_\n"
     ]
    }
   ],
   "source": [
    "# SDSoCでビルドした共有ライブラリから、HW化した関数の名前を把握する\n",
    "# SW版の関数名は、mmult_accelだが、HW化すると_p0_mmult_accel_0となる。\n",
    "# さらに、コンパイラの名前マングリングにより_Z17_p0_mmult_accel_0PfS_S_になるよう\n",
    "!nm -C ../src/libpynqmmult.so | grep mmult_accel\n",
    "!echo ---\n",
    "!nm -D ../src/libpynqmmult.so | grep mmult_accel"
   ]
  },
  {
   "cell_type": "markdown",
   "metadata": {
    "deletable": true,
    "editable": true
   },
   "source": [
    "### Call Accelerator"
   ]
  },
  {
   "cell_type": "code",
   "execution_count": 7,
   "metadata": {
    "collapsed": false,
    "deletable": true,
    "editable": true
   },
   "outputs": [],
   "source": [
    "class Mmult():\n",
    "    def __init__(self):\n",
    "        self.bitfile = \"./pynqmmult.bit\"\n",
    "        self.libfile = \"../src/libpynqmmult.so\"\n",
    "        self.ffi = cffi.FFI()\n",
    "        self.ffi.cdef(\"int _Z25_p0_mmult_accel_1_noasyncPfS_S_(float*, float*, float*);\")\n",
    "        self.lib = self.ffi.dlopen(self.libfile)\n",
    "        Overlay(self.bitfile).download()\n",
    "    \n",
    "    def __call__(self, a, b, c):\n",
    "        # a,b,c is CData Object\n",
    "        self.lib._Z25_p0_mmult_accel_1_noasyncPfS_S_(a,b,c)\n"
   ]
  },
  {
   "cell_type": "code",
   "execution_count": 8,
   "metadata": {
    "collapsed": false,
    "deletable": true,
    "editable": true
   },
   "outputs": [],
   "source": [
    "mmult = Mmult()"
   ]
  },
  {
   "cell_type": "code",
   "execution_count": 9,
   "metadata": {
    "collapsed": false,
    "deletable": true,
    "editable": true
   },
   "outputs": [],
   "source": [
    "# SDSoCにより高位合成したHWにDMA(not SG)経由で読み書きするメモリ領域は連続領域である必要がある\n",
    "# 連続領域は、CMAのAPIにより、確保する\n",
    "# 連続領域をndarrayとして扱う\n",
    "\n",
    "ffi = cffi.FFI()\n",
    "\n",
    " # TODO 現状32x32の配列のみ対応。汎用化する\n",
    "def init_contiguous_ndarray(size=(32,32), dtype=\"float\"):\n",
    "    buf = mmu.cma_alloc(32*32, data_type=dtype)\n",
    "    cbuf = ffi.buffer(buf,  32*32 * ffi.sizeof(dtype))\n",
    "    return np.frombuffer(cbuf, dtype=np.float32).reshape(size), buf"
   ]
  },
  {
   "cell_type": "code",
   "execution_count": 10,
   "metadata": {
    "collapsed": false,
    "deletable": true,
    "editable": true
   },
   "outputs": [],
   "source": [
    "a, pa = init_contiguous_ndarray()\n",
    "b, pb = init_contiguous_ndarray()\n",
    "c, pc = init_contiguous_ndarray()"
   ]
  },
  {
   "cell_type": "code",
   "execution_count": 11,
   "metadata": {
    "collapsed": false,
    "deletable": true,
    "editable": true
   },
   "outputs": [
    {
     "name": "stdout",
     "output_type": "stream",
     "text": [
      "A (32, 32) <class 'numpy.ndarray'>\n",
      "[[ 1.  1.  1. ...,  1.  1.  1.]\n",
      " [ 1.  1.  1. ...,  1.  1.  1.]\n",
      " [ 1.  1.  1. ...,  1.  1.  1.]\n",
      " ..., \n",
      " [ 1.  1.  1. ...,  1.  1.  1.]\n",
      " [ 1.  1.  1. ...,  1.  1.  1.]\n",
      " [ 1.  1.  1. ...,  1.  1.  1.]] <cdata 'float *' 0x36f64000>\n",
      "B (32, 32) <class 'numpy.ndarray'>\n",
      "[[ 2.  2.  2. ...,  2.  2.  2.]\n",
      " [ 2.  2.  2. ...,  2.  2.  2.]\n",
      " [ 2.  2.  2. ...,  2.  2.  2.]\n",
      " ..., \n",
      " [ 2.  2.  2. ...,  2.  2.  2.]\n",
      " [ 2.  2.  2. ...,  2.  2.  2.]\n",
      " [ 2.  2.  2. ...,  2.  2.  2.]] <cdata 'float *' 0x36f4b000>\n",
      "C (32, 32) <class 'numpy.ndarray'>\n",
      "[[ 0.  0.  0. ...,  0.  0.  0.]\n",
      " [ 0.  0.  0. ...,  0.  0.  0.]\n",
      " [ 0.  0.  0. ...,  0.  0.  0.]\n",
      " ..., \n",
      " [ 0.  0.  0. ...,  0.  0.  0.]\n",
      " [ 0.  0.  0. ...,  0.  0.  0.]\n",
      " [ 0.  0.  0. ...,  0.  0.  0.]] <cdata 'float *' 0x36f4a000>\n"
     ]
    }
   ],
   "source": [
    "a += 1\n",
    "b += 2\n",
    "\n",
    "print(\"A\", a.shape, type(a))\n",
    "print(a,pa)\n",
    "print(\"B\", b.shape, type(b))\n",
    "print(b,pb)\n",
    "print(\"C\", c.shape, type(c))\n",
    "print(c,pc)"
   ]
  },
  {
   "cell_type": "code",
   "execution_count": 12,
   "metadata": {
    "collapsed": false,
    "deletable": true,
    "editable": true
   },
   "outputs": [
    {
     "data": {
      "text/plain": [
       "{'Buffer Count': 3,\n",
       " 'CMA Memory Available': 90435584,\n",
       " 'CMA Memory Usage': 12288}"
      ]
     },
     "execution_count": 12,
     "metadata": {},
     "output_type": "execute_result"
    }
   ],
   "source": [
    "mmu.cma_stats()"
   ]
  },
  {
   "cell_type": "code",
   "execution_count": 13,
   "metadata": {
    "collapsed": false,
    "deletable": true,
    "editable": true
   },
   "outputs": [],
   "source": [
    "mmult(pa, pb, pc)"
   ]
  },
  {
   "cell_type": "code",
   "execution_count": 14,
   "metadata": {
    "collapsed": false,
    "deletable": true,
    "editable": true
   },
   "outputs": [
    {
     "name": "stdout",
     "output_type": "stream",
     "text": [
      "C (32, 32) <class 'numpy.ndarray'>\n",
      "[[ 64.  64.  64. ...,  64.  64.  64.]\n",
      " [ 64.  64.  64. ...,  64.  64.  64.]\n",
      " [ 64.  64.  64. ...,  64.  64.  64.]\n",
      " ..., \n",
      " [ 64.  64.  64. ...,  64.  64.  64.]\n",
      " [ 64.  64.  64. ...,  64.  64.  64.]\n",
      " [ 64.  64.  64. ...,  64.  64.  64.]]\n"
     ]
    }
   ],
   "source": [
    "print(\"C\", c.shape, type(c))\n",
    "print(c)"
   ]
  },
  {
   "cell_type": "markdown",
   "metadata": {
    "deletable": true,
    "editable": true
   },
   "source": [
    "### Test"
   ]
  },
  {
   "cell_type": "code",
   "execution_count": 15,
   "metadata": {
    "collapsed": false,
    "deletable": true,
    "editable": true
   },
   "outputs": [
    {
     "data": {
      "text/plain": [
       "array([[ 64.,  64.,  64., ...,  64.,  64.,  64.],\n",
       "       [ 64.,  64.,  64., ...,  64.,  64.,  64.],\n",
       "       [ 64.,  64.,  64., ...,  64.,  64.,  64.],\n",
       "       ..., \n",
       "       [ 64.,  64.,  64., ...,  64.,  64.,  64.],\n",
       "       [ 64.,  64.,  64., ...,  64.,  64.,  64.],\n",
       "       [ 64.,  64.,  64., ...,  64.,  64.,  64.]], dtype=float32)"
      ]
     },
     "execution_count": 15,
     "metadata": {},
     "output_type": "execute_result"
    }
   ],
   "source": [
    "# For comparison\n",
    "np.dot(a,b)"
   ]
  },
  {
   "cell_type": "code",
   "execution_count": 10,
   "metadata": {
    "collapsed": false,
    "deletable": true,
    "editable": true
   },
   "outputs": [
    {
     "name": "stdout",
     "output_type": "stream",
     "text": [
      "OK\n"
     ]
    }
   ],
   "source": [
    "# SWとHWの計算結果の全ての要素が一致することを確認\n",
    "if np.alltrue(c == np.dot(a, b)):\n",
    "    print(\"OK\")\n",
    "else:\n",
    "    print(\"NG\")"
   ]
  },
  {
   "cell_type": "markdown",
   "metadata": {
    "deletable": true,
    "editable": true
   },
   "source": [
    "### Benchmarks"
   ]
  },
  {
   "cell_type": "code",
   "execution_count": 11,
   "metadata": {
    "collapsed": false,
    "deletable": true,
    "editable": true
   },
   "outputs": [
    {
     "name": "stdout",
     "output_type": "stream",
     "text": [
      "100 loops, best of 3: 33.6 µs per loop\n"
     ]
    }
   ],
   "source": [
    "# HW\n",
    "t_hw = %timeit -n 100 -o mmult(pa, pb, pc)"
   ]
  },
  {
   "cell_type": "code",
   "execution_count": 12,
   "metadata": {
    "collapsed": false,
    "deletable": true,
    "editable": true
   },
   "outputs": [
    {
     "name": "stdout",
     "output_type": "stream",
     "text": [
      "100 loops, best of 3: 7.36 ms per loop\n"
     ]
    }
   ],
   "source": [
    "# SW\n",
    "t_sw = %timeit -n 100 -o np.dot(a, b)"
   ]
  }
 ],
 "metadata": {
  "kernelspec": {
   "display_name": "Python 3",
   "language": "python",
   "name": "python3"
  },
  "language_info": {
   "codemirror_mode": {
    "name": "ipython",
    "version": 3
   },
   "file_extension": ".py",
   "mimetype": "text/x-python",
   "name": "python",
   "nbconvert_exporter": "python",
   "pygments_lexer": "ipython3",
   "version": "3.6.0"
  }
 },
 "nbformat": 4,
 "nbformat_minor": 0
}
